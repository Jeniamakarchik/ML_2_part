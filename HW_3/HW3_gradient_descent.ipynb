{
 "cells": [
  {
   "cell_type": "markdown",
   "metadata": {},
   "source": [
    "## HW3. Stochastic Gradient Descent"
   ]
  },
  {
   "cell_type": "code",
   "execution_count": 25,
   "metadata": {},
   "outputs": [],
   "source": [
    "import numpy as np\n",
    "import pandas as pd\n",
    "import matplotlib.pyplot as plt\n",
    "\n",
    "from random import randint"
   ]
  },
  {
   "cell_type": "code",
   "execution_count": 26,
   "metadata": {},
   "outputs": [],
   "source": [
    "from sklearn.model_selection import train_test_split, StratifiedKFold, GridSearchCV\n",
    "from sklearn.metrics import accuracy_score\n",
    "from sklearn.preprocessing import StandardScaler"
   ]
  },
  {
   "cell_type": "markdown",
   "metadata": {},
   "source": [
    "### Data preparation"
   ]
  },
  {
   "cell_type": "markdown",
   "metadata": {},
   "source": [
    "Разобъем выборку на тренировочную и тестовую. Разбиение будем проводить сбалансированное, чтобы сохранялось процентное соотношение классов."
   ]
  },
  {
   "cell_type": "code",
   "execution_count": 27,
   "metadata": {},
   "outputs": [],
   "source": [
    "classes = ('Iris-setosa', 'Iris-versicolor', 'Iris-virginica')"
   ]
  },
  {
   "cell_type": "code",
   "execution_count": 29,
   "metadata": {
    "scrolled": true
   },
   "outputs": [
    {
     "data": {
      "text/html": [
       "<div>\n",
       "<style scoped>\n",
       "    .dataframe tbody tr th:only-of-type {\n",
       "        vertical-align: middle;\n",
       "    }\n",
       "\n",
       "    .dataframe tbody tr th {\n",
       "        vertical-align: top;\n",
       "    }\n",
       "\n",
       "    .dataframe thead th {\n",
       "        text-align: right;\n",
       "    }\n",
       "</style>\n",
       "<table border=\"1\" class=\"dataframe\">\n",
       "  <thead>\n",
       "    <tr style=\"text-align: right;\">\n",
       "      <th></th>\n",
       "      <th>0</th>\n",
       "      <th>1</th>\n",
       "      <th>2</th>\n",
       "      <th>3</th>\n",
       "      <th>4</th>\n",
       "    </tr>\n",
       "  </thead>\n",
       "  <tbody>\n",
       "    <tr>\n",
       "      <th>0</th>\n",
       "      <td>5.1</td>\n",
       "      <td>3.5</td>\n",
       "      <td>1.4</td>\n",
       "      <td>0.2</td>\n",
       "      <td>Iris-setosa</td>\n",
       "    </tr>\n",
       "    <tr>\n",
       "      <th>1</th>\n",
       "      <td>4.9</td>\n",
       "      <td>3.0</td>\n",
       "      <td>1.4</td>\n",
       "      <td>0.2</td>\n",
       "      <td>Iris-setosa</td>\n",
       "    </tr>\n",
       "    <tr>\n",
       "      <th>2</th>\n",
       "      <td>4.7</td>\n",
       "      <td>3.2</td>\n",
       "      <td>1.3</td>\n",
       "      <td>0.2</td>\n",
       "      <td>Iris-setosa</td>\n",
       "    </tr>\n",
       "    <tr>\n",
       "      <th>3</th>\n",
       "      <td>4.6</td>\n",
       "      <td>3.1</td>\n",
       "      <td>1.5</td>\n",
       "      <td>0.2</td>\n",
       "      <td>Iris-setosa</td>\n",
       "    </tr>\n",
       "    <tr>\n",
       "      <th>4</th>\n",
       "      <td>5.0</td>\n",
       "      <td>3.6</td>\n",
       "      <td>1.4</td>\n",
       "      <td>0.2</td>\n",
       "      <td>Iris-setosa</td>\n",
       "    </tr>\n",
       "  </tbody>\n",
       "</table>\n",
       "</div>"
      ],
      "text/plain": [
       "     0    1    2    3            4\n",
       "0  5.1  3.5  1.4  0.2  Iris-setosa\n",
       "1  4.9  3.0  1.4  0.2  Iris-setosa\n",
       "2  4.7  3.2  1.3  0.2  Iris-setosa\n",
       "3  4.6  3.1  1.5  0.2  Iris-setosa\n",
       "4  5.0  3.6  1.4  0.2  Iris-setosa"
      ]
     },
     "execution_count": 29,
     "metadata": {},
     "output_type": "execute_result"
    }
   ],
   "source": [
    "data = pd.read_csv('iris.data', header=None)\n",
    "data.head()"
   ]
  },
  {
   "cell_type": "code",
   "execution_count": 30,
   "metadata": {},
   "outputs": [
    {
     "data": {
      "text/plain": [
       "((135, 5), (15, 5))"
      ]
     },
     "execution_count": 30,
     "metadata": {},
     "output_type": "execute_result"
    }
   ],
   "source": [
    "train, test = train_test_split(data, train_size=0.9, random_state=42, stratify=data[4])\n",
    "train.shape, test.shape"
   ]
  },
  {
   "cell_type": "code",
   "execution_count": 31,
   "metadata": {},
   "outputs": [],
   "source": [
    "X_train = train[[0, 1, 2, 3]]\n",
    "y_train = train[4]\n",
    "X_test = test[[0, 1, 2, 3]]\n",
    "y_test = test[4]"
   ]
  },
  {
   "cell_type": "code",
   "execution_count": 32,
   "metadata": {},
   "outputs": [],
   "source": [
    "scaler = StandardScaler()\n",
    "scaler.fit(X_train)\n",
    "train_scaled = pd.DataFrame(scaler.transform(X_train))\n",
    "train_scaled[4] = y_train.reset_index(drop=True)\n",
    "test_scaled = pd.DataFrame(scaler.transform(X_test))\n",
    "test_scaled[4] = y_test.reset_index(drop=True)"
   ]
  },
  {
   "cell_type": "code",
   "execution_count": 33,
   "metadata": {},
   "outputs": [
    {
     "data": {
      "text/html": [
       "<div>\n",
       "<style scoped>\n",
       "    .dataframe tbody tr th:only-of-type {\n",
       "        vertical-align: middle;\n",
       "    }\n",
       "\n",
       "    .dataframe tbody tr th {\n",
       "        vertical-align: top;\n",
       "    }\n",
       "\n",
       "    .dataframe thead th {\n",
       "        text-align: right;\n",
       "    }\n",
       "</style>\n",
       "<table border=\"1\" class=\"dataframe\">\n",
       "  <thead>\n",
       "    <tr style=\"text-align: right;\">\n",
       "      <th></th>\n",
       "      <th>0</th>\n",
       "      <th>1</th>\n",
       "      <th>2</th>\n",
       "      <th>3</th>\n",
       "      <th>4</th>\n",
       "    </tr>\n",
       "  </thead>\n",
       "  <tbody>\n",
       "    <tr>\n",
       "      <th>0</th>\n",
       "      <td>0.937066</td>\n",
       "      <td>-0.348086</td>\n",
       "      <td>0.484926</td>\n",
       "      <td>0.124931</td>\n",
       "      <td>Iris-versicolor</td>\n",
       "    </tr>\n",
       "    <tr>\n",
       "      <th>1</th>\n",
       "      <td>0.328874</td>\n",
       "      <td>-1.029122</td>\n",
       "      <td>1.056673</td>\n",
       "      <td>0.255674</td>\n",
       "      <td>Iris-virginica</td>\n",
       "    </tr>\n",
       "    <tr>\n",
       "      <th>2</th>\n",
       "      <td>0.815428</td>\n",
       "      <td>-0.121073</td>\n",
       "      <td>0.827974</td>\n",
       "      <td>1.040127</td>\n",
       "      <td>Iris-virginica</td>\n",
       "    </tr>\n",
       "    <tr>\n",
       "      <th>3</th>\n",
       "      <td>-0.279318</td>\n",
       "      <td>-1.256135</td>\n",
       "      <td>0.084703</td>\n",
       "      <td>-0.136553</td>\n",
       "      <td>Iris-versicolor</td>\n",
       "    </tr>\n",
       "    <tr>\n",
       "      <th>4</th>\n",
       "      <td>1.788535</td>\n",
       "      <td>-0.348086</td>\n",
       "      <td>1.456896</td>\n",
       "      <td>0.778642</td>\n",
       "      <td>Iris-virginica</td>\n",
       "    </tr>\n",
       "    <tr>\n",
       "      <th>5</th>\n",
       "      <td>-1.738979</td>\n",
       "      <td>0.332951</td>\n",
       "      <td>-1.401839</td>\n",
       "      <td>-1.313232</td>\n",
       "      <td>Iris-setosa</td>\n",
       "    </tr>\n",
       "    <tr>\n",
       "      <th>6</th>\n",
       "      <td>-1.738979</td>\n",
       "      <td>-0.121073</td>\n",
       "      <td>-1.401839</td>\n",
       "      <td>-1.313232</td>\n",
       "      <td>Iris-setosa</td>\n",
       "    </tr>\n",
       "    <tr>\n",
       "      <th>7</th>\n",
       "      <td>-1.009148</td>\n",
       "      <td>0.786976</td>\n",
       "      <td>-1.287490</td>\n",
       "      <td>-1.313232</td>\n",
       "      <td>Iris-setosa</td>\n",
       "    </tr>\n",
       "    <tr>\n",
       "      <th>8</th>\n",
       "      <td>0.693789</td>\n",
       "      <td>-0.575098</td>\n",
       "      <td>1.056673</td>\n",
       "      <td>1.301611</td>\n",
       "      <td>Iris-virginica</td>\n",
       "    </tr>\n",
       "    <tr>\n",
       "      <th>9</th>\n",
       "      <td>0.937066</td>\n",
       "      <td>-0.121073</td>\n",
       "      <td>0.370577</td>\n",
       "      <td>0.255674</td>\n",
       "      <td>Iris-versicolor</td>\n",
       "    </tr>\n",
       "    <tr>\n",
       "      <th>10</th>\n",
       "      <td>-0.036041</td>\n",
       "      <td>2.149050</td>\n",
       "      <td>-1.459014</td>\n",
       "      <td>-1.313232</td>\n",
       "      <td>Iris-setosa</td>\n",
       "    </tr>\n",
       "    <tr>\n",
       "      <th>11</th>\n",
       "      <td>0.815428</td>\n",
       "      <td>-0.121073</td>\n",
       "      <td>0.999499</td>\n",
       "      <td>0.778642</td>\n",
       "      <td>Iris-virginica</td>\n",
       "    </tr>\n",
       "    <tr>\n",
       "      <th>12</th>\n",
       "      <td>0.693789</td>\n",
       "      <td>0.332951</td>\n",
       "      <td>0.427751</td>\n",
       "      <td>0.386416</td>\n",
       "      <td>Iris-versicolor</td>\n",
       "    </tr>\n",
       "    <tr>\n",
       "      <th>13</th>\n",
       "      <td>1.058705</td>\n",
       "      <td>-0.121073</td>\n",
       "      <td>0.713625</td>\n",
       "      <td>0.647900</td>\n",
       "      <td>Iris-versicolor</td>\n",
       "    </tr>\n",
       "    <tr>\n",
       "      <th>14</th>\n",
       "      <td>-0.765871</td>\n",
       "      <td>0.786976</td>\n",
       "      <td>-1.344664</td>\n",
       "      <td>-1.313232</td>\n",
       "      <td>Iris-setosa</td>\n",
       "    </tr>\n",
       "  </tbody>\n",
       "</table>\n",
       "</div>"
      ],
      "text/plain": [
       "           0         1         2         3                4\n",
       "0   0.937066 -0.348086  0.484926  0.124931  Iris-versicolor\n",
       "1   0.328874 -1.029122  1.056673  0.255674   Iris-virginica\n",
       "2   0.815428 -0.121073  0.827974  1.040127   Iris-virginica\n",
       "3  -0.279318 -1.256135  0.084703 -0.136553  Iris-versicolor\n",
       "4   1.788535 -0.348086  1.456896  0.778642   Iris-virginica\n",
       "5  -1.738979  0.332951 -1.401839 -1.313232      Iris-setosa\n",
       "6  -1.738979 -0.121073 -1.401839 -1.313232      Iris-setosa\n",
       "7  -1.009148  0.786976 -1.287490 -1.313232      Iris-setosa\n",
       "8   0.693789 -0.575098  1.056673  1.301611   Iris-virginica\n",
       "9   0.937066 -0.121073  0.370577  0.255674  Iris-versicolor\n",
       "10 -0.036041  2.149050 -1.459014 -1.313232      Iris-setosa\n",
       "11  0.815428 -0.121073  0.999499  0.778642   Iris-virginica\n",
       "12  0.693789  0.332951  0.427751  0.386416  Iris-versicolor\n",
       "13  1.058705 -0.121073  0.713625  0.647900  Iris-versicolor\n",
       "14 -0.765871  0.786976 -1.344664 -1.313232      Iris-setosa"
      ]
     },
     "execution_count": 33,
     "metadata": {},
     "output_type": "execute_result"
    }
   ],
   "source": [
    "test_scaled"
   ]
  },
  {
   "cell_type": "code",
   "execution_count": 34,
   "metadata": {},
   "outputs": [],
   "source": [
    "train_scaled.to_csv('train.csv', header=False, index=False)\n",
    "test_scaled.to_csv('test.csv', header=False, index=False)"
   ]
  },
  {
   "cell_type": "code",
   "execution_count": 35,
   "metadata": {},
   "outputs": [],
   "source": [
    "train_data = pd.read_csv('train.csv', header=None)\n",
    "test_data = pd.read_csv('test.csv', header=None)"
   ]
  },
  {
   "cell_type": "markdown",
   "metadata": {},
   "source": [
    "### Task 1 - 3.\n",
    "Обучите модель логистической регресси с помощью SGD и batch gradient descent. Подберите нужные параметры по сетке. Сравните полученные решения."
   ]
  },
  {
   "cell_type": "markdown",
   "metadata": {},
   "source": [
    "Напишем свой класс-классификатор."
   ]
  },
  {
   "cell_type": "code",
   "execution_count": 36,
   "metadata": {},
   "outputs": [],
   "source": [
    "from sklearn.base import BaseEstimator, ClassifierMixin"
   ]
  },
  {
   "cell_type": "code",
   "execution_count": 43,
   "metadata": {},
   "outputs": [],
   "source": [
    "class GDClassifier(BaseEstimator, ClassifierMixin):\n",
    "    def __init__(self, type_='stochastic', learning_rate=0.01, n_iter=1000, alpha=0.01):\n",
    "        self.type_ = type_\n",
    "        self.learning_rate = learning_rate\n",
    "        self.n_iter = n_iter\n",
    "        self.alpha = alpha\n",
    "\n",
    "        self.weights = None\n",
    "        self.coeffs_ = None\n",
    "\n",
    "    @staticmethod\n",
    "    def sigmoid(x):\n",
    "        return 1.0 / (1.0 + np.exp(-x))\n",
    "\n",
    "    @staticmethod\n",
    "    def compute_gradient(x, y, w):\n",
    "        grad = np.dot(x.T, GDClassifier.sigmoid(x.dot(w)) - y)\n",
    "        return grad if len(x.shape) == 1 else grad / len(x)\n",
    "\n",
    "    def fit(self, X_train, y_train):\n",
    "        x, y = X_train, y_train\n",
    "        n_obs = x.shape[0]\n",
    "        n_features = x.shape[1]\n",
    "\n",
    "        self.weights = np.zeros((self.n_iter, n_features))\n",
    "\n",
    "        for k in range(self.n_iter - 1):\n",
    "            if self.type_ == 'stochastic':\n",
    "                ind = randint(0, n_obs - 1)\n",
    "                x, y = X_train[ind, :], y_train[ind]\n",
    "\n",
    "            w = self.weights[k]\n",
    "            grad = self.compute_gradient(x, y, w) + self.alpha*w\n",
    "\n",
    "            u = -self.learning_rate*grad\n",
    "            self.weights[k+1] = self.weights[k] + u\n",
    "        \n",
    "        half = self.n_iter//2\n",
    "        self.coeffs_ = self.weights[half:].mean(axis=0)\n",
    "        return self\n",
    "\n",
    "    def predict(self, X):\n",
    "        return self.sigmoid(X.dot(self.coeffs_)) >= 0.5"
   ]
  },
  {
   "cell_type": "markdown",
   "metadata": {},
   "source": [
    "Подготовим данные: выберем константный столбец и выделим наш целевой класс в данных."
   ]
  },
  {
   "cell_type": "code",
   "execution_count": 38,
   "metadata": {},
   "outputs": [],
   "source": [
    "def prepare_data(X, y, class_name):\n",
    "    X = np.hstack((np.ones((X.shape[0], 1)), X))\n",
    "    y = (y == class_name)\n",
    "    return X.astype(float), np.array(y)"
   ]
  },
  {
   "cell_type": "markdown",
   "metadata": {},
   "source": [
    "Зададим данные для перебора."
   ]
  },
  {
   "cell_type": "code",
   "execution_count": 39,
   "metadata": {},
   "outputs": [],
   "source": [
    "param_grid = {\n",
    "    'learning_rate': [0.1, 0.05, 0.01, 0.005, 0.001],\n",
    "    'n_iter': [100, 200, 500, 750, 1000, 2500, 5000],\n",
    "    'alpha': [0.01, 0.001, 0.0001, 0.0]\n",
    "}"
   ]
  },
  {
   "cell_type": "markdown",
   "metadata": {},
   "source": [
    "Проведем эксперименты."
   ]
  },
  {
   "cell_type": "code",
   "execution_count": 44,
   "metadata": {},
   "outputs": [
    {
     "name": "stdout",
     "output_type": "stream",
     "text": [
      "***** ***** ***** *****\n",
      "Target class: Iris-setosa\n",
      "Method: batch\n",
      "Best classifier: GDClassifier(alpha=0.01, learning_rate=0.1, n_iter=100, type_='batch')\n",
      "Best CV score: 1.0\n",
      "Test score: 1.0\n",
      "***** ***** ***** *****\n",
      "\n",
      "***** ***** ***** *****\n",
      "Target class: Iris-versicolor\n",
      "Method: batch\n",
      "Best classifier: GDClassifier(alpha=0.01, learning_rate=0.1, n_iter=2500, type_='batch')\n",
      "Best CV score: 0.7259\n",
      "Test score: 0.6\n",
      "***** ***** ***** *****\n",
      "\n",
      "***** ***** ***** *****\n",
      "Target class: Iris-virginica\n",
      "Method: batch\n",
      "Best classifier: GDClassifier(alpha=0.001, learning_rate=0.1, n_iter=2500, type_='batch')\n",
      "Best CV score: 0.963\n",
      "Test score: 0.8667\n",
      "***** ***** ***** *****\n",
      "\n",
      "***** ***** ***** *****\n",
      "Target class: Iris-setosa\n",
      "Method: stochastic\n",
      "Best classifier: GDClassifier(alpha=0.01, learning_rate=0.1, n_iter=100, type_='stochastic')\n",
      "Best CV score: 1.0\n",
      "Test score: 1.0\n",
      "***** ***** ***** *****\n",
      "\n",
      "***** ***** ***** *****\n",
      "Target class: Iris-versicolor\n",
      "Method: stochastic\n",
      "Best classifier: GDClassifier(alpha=0.0001, learning_rate=0.1, n_iter=750, type_='stochastic')\n",
      "Best CV score: 0.7556\n",
      "Test score: 0.6667\n",
      "***** ***** ***** *****\n",
      "\n",
      "***** ***** ***** *****\n",
      "Target class: Iris-virginica\n",
      "Method: stochastic\n",
      "Best classifier: GDClassifier(alpha=0.001, learning_rate=0.05, n_iter=2500, type_='stochastic')\n",
      "Best CV score: 0.9704\n",
      "Test score: 0.8667\n",
      "***** ***** ***** *****\n",
      "\n"
     ]
    }
   ],
   "source": [
    "for type_ in ['batch', 'stochastic']:\n",
    "    for cls in classes:\n",
    "        print('***** ***** ***** *****')\n",
    "        print(f'Target class: {cls}')\n",
    "        print(f'Method: {type_}')\n",
    "\n",
    "        X_train, y_train = prepare_data(train_data[[0, 1, 2, 3]], train_data[4], cls)\n",
    "        X_test, y_test = prepare_data(test_data[[0, 1, 2, 3]], test_data[4], cls)\n",
    "\n",
    "        kf = StratifiedKFold(n_splits=5, shuffle=True, random_state=42)\n",
    "        clf = GridSearchCV(GDClassifier(type_=type_), param_grid=param_grid, scoring='accuracy', n_jobs=-1, cv=kf)\n",
    "        clf.fit(X_train, y_train)\n",
    "\n",
    "        print(f'Best classifier: {clf.best_estimator_}')\n",
    "        print(f'Best CV score: {clf.best_score_:.4}')\n",
    "        print(f'Test score: {accuracy_score(y_test, clf.predict(X_test)):.4}')\n",
    "        print('***** ***** ***** *****')\n",
    "        print()"
   ]
  },
  {
   "cell_type": "markdown",
   "metadata": {},
   "source": [
    "Из полученных результатов можно видеть, что хорошо отделимый класс \"Iris-setosa\" классифицируется обоими алгоритмами за наименьшее количество итераций. И на кросс-валидации, и на тестовой выборке алгоритм не ошибся.\n",
    "\n",
    "Для класса \"Iris-versicolor\" результаты не такие радостные. Алгоритму потребовалось больше итераций, чтобы сойтись. При этом SGD справился с задачей за меньшее количество итераций чем BGD.\n",
    "\n",
    "Класс \"Iris-virginica\" алгоритм распознает достаточно хорошо, что видно по результатам и на кросс-валидации, и на тестовой выборке. \n",
    "\n",
    "\n",
    "\n",
    "Обобщив, получим, что и на кросс-валидации, и на тестовой выборке SGD показал немного лучше результаты, чем BGD на всех классах ирисов. Результаты работы обоих алгоритмов сопоставимы.\n",
    "\n",
    "Преимущества SGD:\n",
    "    Требует меньших вычислительных затрат, так как работает только с одним объектом за итерацию.\n",
    "\n",
    "Недостатки SGD:\n",
    "    Может застрять в локальном минимуме.\n",
    "\n",
    "Преимущества BGD:\n",
    "    Стабильная сходимость.\n",
    "\n",
    "Недостатки BGD:\n",
    "    Требует больших вычислительных затрат, так как оперирует всей выборкой."
   ]
  },
  {
   "cell_type": "markdown",
   "metadata": {},
   "source": [
    "### Task 4"
   ]
  },
  {
   "cell_type": "markdown",
   "metadata": {},
   "source": [
    "Внесем изменения в класс, чтобы поддерживались оптимизаторы."
   ]
  },
  {
   "cell_type": "code",
   "execution_count": 50,
   "metadata": {},
   "outputs": [],
   "source": [
    "class GDClassifier(BaseEstimator, ClassifierMixin):\n",
    "    def __init__(self, type_='stochastic', learning_rate=0.01, n_iter=1000, alpha=0.01,\n",
    "                 optimization=None, beta=0.9, gamma=0.9, eps=1.0e-9):\n",
    "        self.type_ = type_\n",
    "        self.learning_rate = learning_rate\n",
    "        self.n_iter = n_iter\n",
    "        self.alpha = alpha\n",
    "\n",
    "        self.weights = None\n",
    "        self.coeffs_ = None\n",
    "\n",
    "        # add optimization\n",
    "        self.optimization = optimization\n",
    "        self.beta = beta\n",
    "        self.gamma = gamma\n",
    "        self.eps = eps\n",
    "\n",
    "        self.func_router = {\n",
    "            'adam': self.adam,\n",
    "            'rmsprop': self.rmsprop,\n",
    "            'adagrad': self.adagrad,\n",
    "            'momentum': self.momentum,\n",
    "            'nesterov_momentum': self.nesterov_momentum\n",
    "        }\n",
    "\n",
    "    @staticmethod\n",
    "    def sigmoid(x):\n",
    "        return 1.0 / (1.0 + np.exp(-x))\n",
    "\n",
    "    @staticmethod\n",
    "    def compute_gradient(x, y, w):\n",
    "        grad = np.dot(x.T, GDClassifier.sigmoid(x.dot(w)) - y)\n",
    "        return grad if len(x.shape) == 1 else grad / len(x)\n",
    "\n",
    "    def fit(self, X_train, y_train):\n",
    "        x, y = X_train, y_train\n",
    "        n_obs = x.shape[0]\n",
    "        n_features = x.shape[1]\n",
    "\n",
    "        self.weights = np.zeros((self.n_iter, n_features))\n",
    "        u = np.zeros_like(self.weights[0])\n",
    "\n",
    "        for k in range(self.n_iter - 1):\n",
    "            if self.type_ == 'stochastic':\n",
    "                ind = randint(0, n_obs - 1)\n",
    "                x, y = X_train[ind, :], y_train[ind]\n",
    "\n",
    "            w = self.weights[k]\n",
    "\n",
    "            try:\n",
    "                u = self.func_router[self.optimization](x, y, u, w)\n",
    "            except:\n",
    "                raise Exception('Unknown optimization.')\n",
    "\n",
    "            self.weights[k+1] = self.weights[k] + u\n",
    "\n",
    "        half = self.n_iter//2\n",
    "        self.coeffs_ = self.weights[half:].mean(axis=0)\n",
    "        return self\n",
    "\n",
    "    def predict(self, X):\n",
    "        return self.sigmoid(X.dot(self.coeffs_)) >= 0.5\n",
    "\n",
    "    def adam(self, x, y, u, w):\n",
    "        m = np.zeros_like(self.weights[0])\n",
    "        v = np.zeros_like(self.weights[0])\n",
    "\n",
    "        grad = self.compute_gradient(x, y, w) + self.alpha * w\n",
    "        m = self.gamma * m + (1 - self.gamma) * grad\n",
    "        v = self.beta * v + (1 - self.beta) * (grad ** 2)\n",
    "        return - self.learning_rate * m / (np.sqrt(v) + self.eps)\n",
    "\n",
    "    def rmsprop(self, x, y, u, w):\n",
    "        g = np.zeros_like(self.weights[0])\n",
    "\n",
    "        grad = self.compute_gradient(x, y, w) + self.alpha * w\n",
    "        g = self.beta * g + (1 - self.beta) * (grad ** 2)\n",
    "        return -self.learning_rate * grad / (np.sqrt(g + self.eps))\n",
    "\n",
    "    def adagrad(self, x, y, u, w):\n",
    "        g = np.zeros_like(self.weights[0])\n",
    "\n",
    "        grad = self.compute_gradient(x, y, w) + self.alpha * w\n",
    "        g += grad ** 2\n",
    "        return -self.learning_rate * grad / (np.sqrt(g) + self.eps)\n",
    "\n",
    "    def momentum(self, x, y, u, w):\n",
    "        grad = self.compute_gradient(x, y, w) + self.alpha * w\n",
    "        return self.gamma * u - self.learning_rate * grad\n",
    "\n",
    "    def nesterov_momentum(self, x, y, u, w):\n",
    "        w += self.gamma * u\n",
    "        grad = self.compute_gradient(x, y, w) + self.alpha * w\n",
    "        return self.gamma * u - self.learning_rate * grad\n",
    "\n",
    "    def plot_iterations(self, max_iterations, X_train, y_train, X_test, y_test):\n",
    "        self.n_iter = max_iterations\n",
    "        self.fit(X_train, y_train)\n",
    "\n",
    "        accuracies = [accuracy_score(y_test, self.sigmoid(X_test.dot(self.weights[i//2:].mean(axis=0))) >= 0.5)\n",
    "                      for i in range(1, max_iterations)]\n",
    "\n",
    "        plt.plot(range(1, max_iterations), accuracies)\n"
   ]
  },
  {
   "cell_type": "code",
   "execution_count": 46,
   "metadata": {},
   "outputs": [],
   "source": [
    "param_grid = {\n",
    "    'learning_rate': [0.1, 0.05, 0.01, 0.005, 0.001],\n",
    "    'n_iter': [100, 200, 500, 1000, 2000, 3000, 5000],\n",
    "    'alpha': [0.01, 0.001, 0.0001, 0.0],\n",
    "    'beta': [0.9, 0.99, 0.999],\n",
    "    'gamma': [0.9, 0.99, 0.999]\n",
    "}"
   ]
  },
  {
   "cell_type": "code",
   "execution_count": null,
   "metadata": {},
   "outputs": [
    {
     "name": "stdout",
     "output_type": "stream",
     "text": [
      "***** ***** ***** *****\n",
      "Target class: Iris-setosa\n",
      "Optimizer: {'type_': 'batch', 'optimization': 'adam'}\n",
      "Best classifier: GDClassifier(alpha=0.01, beta=0.9, eps=1e-09, gamma=0.9, learning_rate=0.1,\n",
      "             n_iter=100, optimization='adam', type_='batch')\n",
      "Best CV score: 1.0\n",
      "Test score: 1.0\n",
      "***** ***** ***** *****\n",
      "\n",
      "***** ***** ***** *****\n",
      "Target class: Iris-setosa\n",
      "Optimizer: {'type_': 'batch', 'optimization': 'rmsprop'}\n",
      "Best classifier: GDClassifier(alpha=0.01, beta=0.9, eps=1e-09, gamma=0.9, learning_rate=0.1,\n",
      "             n_iter=100, optimization='rmsprop', type_='batch')\n",
      "Best CV score: 1.0\n",
      "Test score: 1.0\n",
      "***** ***** ***** *****\n",
      "\n",
      "***** ***** ***** *****\n",
      "Target class: Iris-setosa\n",
      "Optimizer: {'type_': 'batch', 'optimization': 'adagrad'}\n",
      "Best classifier: GDClassifier(alpha=0.01, beta=0.9, eps=1e-09, gamma=0.9, learning_rate=0.1,\n",
      "             n_iter=100, optimization='adagrad', type_='batch')\n",
      "Best CV score: 1.0\n",
      "Test score: 1.0\n",
      "***** ***** ***** *****\n",
      "\n",
      "***** ***** ***** *****\n",
      "Target class: Iris-setosa\n",
      "Optimizer: {'type_': 'stochastic', 'optimization': 'momentum'}\n",
      "Best classifier: GDClassifier(alpha=0.01, beta=0.9, eps=1e-09, gamma=0.9, learning_rate=0.1,\n",
      "             n_iter=100, optimization='momentum', type_='stochastic')\n",
      "Best CV score: 1.0\n",
      "Test score: 1.0\n",
      "***** ***** ***** *****\n",
      "\n",
      "***** ***** ***** *****\n",
      "Target class: Iris-setosa\n",
      "Optimizer: {'type_': 'stochastic', 'optimization': 'nesterov_momentum'}\n",
      "Best classifier: GDClassifier(alpha=0.01, beta=0.9, eps=1e-09, gamma=0.9, learning_rate=0.1,\n",
      "             n_iter=100, optimization='nesterov_momentum', type_='stochastic')\n",
      "Best CV score: 1.0\n",
      "Test score: 1.0\n",
      "***** ***** ***** *****\n",
      "\n"
     ]
    },
    {
     "data": {
      "image/png": "[encoded data removed]",
      "text/plain": [
       "<Figure size 432x288 with 1 Axes>"
      ]
     },
     "metadata": {
      "needs_background": "light"
     },
     "output_type": "display_data"
    },
    {
     "name": "stdout",
     "output_type": "stream",
     "text": [
      "***** ***** ***** *****\n",
      "Target class: Iris-versicolor\n",
      "Optimizer: {'type_': 'batch', 'optimization': 'adam'}\n",
      "Best classifier: GDClassifier(alpha=0.001, beta=0.99, eps=1e-09, gamma=0.9, learning_rate=0.001,\n",
      "             n_iter=1000, optimization='adam', type_='batch')\n",
      "Best CV score: 0.7407\n",
      "Test score: 0.6667\n",
      "***** ***** ***** *****\n",
      "\n",
      "***** ***** ***** *****\n",
      "Target class: Iris-versicolor\n",
      "Optimizer: {'type_': 'batch', 'optimization': 'rmsprop'}\n",
      "Best classifier: GDClassifier(alpha=0.01, beta=0.99, eps=1e-09, gamma=0.9, learning_rate=0.01,\n",
      "             n_iter=100, optimization='rmsprop', type_='batch')\n",
      "Best CV score: 0.7333\n",
      "Test score: 0.6667\n",
      "***** ***** ***** *****\n",
      "\n",
      "***** ***** ***** *****\n",
      "Target class: Iris-versicolor\n",
      "Optimizer: {'type_': 'batch', 'optimization': 'adagrad'}\n",
      "Best classifier: GDClassifier(alpha=0.001, beta=0.9, eps=1e-09, gamma=0.9, learning_rate=0.001,\n",
      "             n_iter=1000, optimization='adagrad', type_='batch')\n",
      "Best CV score: 0.7407\n",
      "Test score: 0.6667\n",
      "***** ***** ***** *****\n",
      "\n",
      "***** ***** ***** *****\n",
      "Target class: Iris-versicolor\n",
      "Optimizer: {'type_': 'stochastic', 'optimization': 'momentum'}\n",
      "Best classifier: GDClassifier(alpha=0.0001, beta=0.99, eps=1e-09, gamma=0.999, learning_rate=0.1,\n",
      "             n_iter=500, optimization='momentum', type_='stochastic')\n",
      "Best CV score: 0.7778\n",
      "Test score: 0.5333\n",
      "***** ***** ***** *****\n",
      "\n"
     ]
    },
    {
     "name": "stderr",
     "output_type": "stream",
     "text": [
      "/usr/local/lib/python3.7/site-packages/ipykernel_launcher.py:28: RuntimeWarning: overflow encountered in exp\n"
     ]
    },
    {
     "name": "stdout",
     "output_type": "stream",
     "text": [
      "***** ***** ***** *****\n",
      "Target class: Iris-versicolor\n",
      "Optimizer: {'type_': 'stochastic', 'optimization': 'nesterov_momentum'}\n"
     ]
    }
   ],
   "source": [
    "optimizer = [\n",
    "    {'type_': 'batch', 'optimization': 'adam'},\n",
    "    {'type_': 'batch', 'optimization': 'rmsprop'},\n",
    "    {'type_': 'batch', 'optimization': 'adagrad'},\n",
    "    {'type_': 'stochastic', 'optimization': 'momentum'},\n",
    "    {'type_': 'stochastic', 'optimization': 'nesterov_momentum'},\n",
    "]\n",
    "\n",
    "for cls in classes:\n",
    "    X_train, y_train = prepare_data(train_data[[0, 1, 2, 3]], train_data[4], cls)\n",
    "    X_test, y_test = prepare_data(test_data[[0, 1, 2, 3]], test_data[4], cls)\n",
    "\n",
    "    for opt in optimizer:\n",
    "        print('***** ***** ***** *****')\n",
    "        print(f'Target class: {cls}')\n",
    "        print(f'Optimizer: {opt}')\n",
    "\n",
    "        kf = StratifiedKFold(n_splits=5, shuffle=True, random_state=42)\n",
    "        clf = GridSearchCV(GDClassifier(**opt), param_grid=param_grid, scoring='accuracy', n_jobs=-1, cv=kf)\n",
    "        clf.fit(X_train, y_train)\n",
    "\n",
    "        print(f'Best classifier: {clf.best_estimator_}')\n",
    "        print(f'Best CV score: {clf.best_score_:.4}')\n",
    "        print(f'Test score: {accuracy_score(y_test, clf.predict(X_test)):.4}')\n",
    "        print('***** ***** ***** *****')\n",
    "        print()\n",
    "\n",
    "        clf.best_estimator_.plot_iterations(1500, X_train, y_train, X_test, y_test)\n",
    "\n",
    "    plt.title(f\"Accuracy for '{cls}' model\")\n",
    "    plt.show()"
   ]
  },
  {
   "cell_type": "code",
   "execution_count": null,
   "metadata": {},
   "outputs": [],
   "source": []
  }
 ],
 "metadata": {
  "kernelspec": {
   "display_name": "Python 3",
   "language": "python",
   "name": "python3"
  },
  "language_info": {
   "codemirror_mode": {
    "name": "ipython",
    "version": 3
   },
   "file_extension": ".py",
   "mimetype": "text/x-python",
   "name": "python",
   "nbconvert_exporter": "python",
   "pygments_lexer": "ipython3",
   "version": "3.7.6"
  }
 },
 "nbformat": 4,
 "nbformat_minor": 4
}
