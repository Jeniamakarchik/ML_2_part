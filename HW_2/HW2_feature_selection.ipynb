{
 "cells": [
  {
   "cell_type": "markdown",
   "metadata": {},
   "source": [
    "## HW2. Feature selection"
   ]
  },
  {
   "cell_type": "markdown",
   "metadata": {},
   "source": [
    "### Importing"
   ]
  },
  {
   "cell_type": "code",
   "execution_count": 1,
   "metadata": {},
   "outputs": [],
   "source": [
    "from sklearn.datasets import load_boston\n",
    "import numpy as np\n",
    "import pandas as pd\n",
    "import matplotlib.pyplot as plt"
   ]
  },
  {
   "cell_type": "markdown",
   "metadata": {},
   "source": [
    "### Download dataset"
   ]
  },
  {
   "cell_type": "code",
   "execution_count": 2,
   "metadata": {
    "scrolled": true
   },
   "outputs": [
    {
     "name": "stdout",
     "output_type": "stream",
     "text": [
      "(506, 13) <class 'numpy.ndarray'>\n",
      "(506,) <class 'numpy.ndarray'>\n"
     ]
    }
   ],
   "source": [
    "data = load_boston()\n",
    "X = data['data']\n",
    "y = data['target']\n",
    "columns = data.feature_names\n",
    "\n",
    "print(X.shape, type(X))\n",
    "print(y.shape, type(y))"
   ]
  },
  {
   "cell_type": "code",
   "execution_count": 3,
   "metadata": {},
   "outputs": [
    {
     "name": "stdout",
     "output_type": "stream",
     "text": [
      "['CRIM' 'ZN' 'INDUS' 'CHAS' 'NOX' 'RM' 'AGE' 'DIS' 'RAD' 'TAX' 'PTRATIO'\n",
      " 'B' 'LSTAT']\n"
     ]
    }
   ],
   "source": [
    "print(columns)"
   ]
  },
  {
   "cell_type": "markdown",
   "metadata": {},
   "source": [
    "### Task 1. Filter method for feature selection"
   ]
  },
  {
   "cell_type": "code",
   "execution_count": 4,
   "metadata": {},
   "outputs": [],
   "source": [
    "def pearson_corr(v):\n",
    "    return np.dot(v - v.mean(), y - y.mean())/(np.linalg.norm(v - v.mean())*np.linalg.norm(y - y.mean()))\n"
   ]
  },
  {
   "cell_type": "code",
   "execution_count": 5,
   "metadata": {},
   "outputs": [],
   "source": [
    "def plot_importances(imp_arr, columns=None, title='Importances'):\n",
    "    \n",
    "    n_bars = len(imp_arr)\n",
    "        \n",
    "    plt.figure(figsize=(12, 8))\n",
    "    plt.title(title)\n",
    "    plt.barh(range(n_bars), imp_arr[:, 1], color='r', align=\"center\")\n",
    "    plt.ylim(-1, n_bars)\n",
    "    if columns is not None:\n",
    "        plt.yticks(range(n_bars), [columns[int(i)] for i in imp_arr[:, 0]])\n",
    "    else:\n",
    "        plt.yticks(range(n_bars), [f'Feature {int(i)}' for i in imp_arr[:, 0]])\n",
    "    plt.show()"
   ]
  },
  {
   "cell_type": "code",
   "execution_count": 6,
   "metadata": {},
   "outputs": [
    {
     "name": "stdout",
     "output_type": "stream",
     "text": [
      "[[12.         -0.73766273]\n",
      " [ 5.          0.69535995]\n",
      " [10.         -0.50778669]\n",
      " [ 2.         -0.48372516]\n",
      " [ 9.         -0.46853593]\n",
      " [ 4.         -0.42732077]\n",
      " [ 0.         -0.38830461]\n",
      " [ 8.         -0.38162623]\n",
      " [ 6.         -0.37695457]\n",
      " [ 1.          0.36044534]\n",
      " [11.          0.33346082]\n",
      " [ 7.          0.24992873]\n",
      " [ 3.          0.17526018]]\n"
     ]
    }
   ],
   "source": [
    "importances = np.apply_along_axis(pearson_corr, 0, X)\n",
    "importances = np.array(sorted(enumerate(importances), key = lambda x: np.fabs(x[1]), reverse=True))\n",
    "print(importances)\n",
    "\n",
    "top_5_filter = columns[[int(i) for i in importances[:5, 0]]]"
   ]
  },
  {
   "cell_type": "code",
   "execution_count": 7,
   "metadata": {},
   "outputs": [
    {
     "data": {
      "image/png": "[encoded data removed]",
      "text/plain": [
       "<Figure size 864x576 with 1 Axes>"
      ]
     },
     "metadata": {
      "needs_background": "light"
     },
     "output_type": "display_data"
    }
   ],
   "source": [
    "plot_importances(importances, columns, title='Pearson correlation')"
   ]
  },
  {
   "cell_type": "code",
   "execution_count": 8,
   "metadata": {},
   "outputs": [
    {
     "name": "stdout",
     "output_type": "stream",
     "text": [
      "The most important features by pearson correlation:\n",
      "['LSTAT' 'RM' 'PTRATIO' 'INDUS' 'TAX']\n"
     ]
    }
   ],
   "source": [
    "print(f'The most important features by pearson correlation:\\n{top_5_filter}')"
   ]
  },
  {
   "cell_type": "markdown",
   "metadata": {},
   "source": [
    "### Scale data"
   ]
  },
  {
   "cell_type": "code",
   "execution_count": 9,
   "metadata": {},
   "outputs": [],
   "source": [
    "from sklearn import preprocessing"
   ]
  },
  {
   "cell_type": "code",
   "execution_count": 10,
   "metadata": {},
   "outputs": [],
   "source": [
    "X_scaled = preprocessing.scale(X)"
   ]
  },
  {
   "cell_type": "markdown",
   "metadata": {},
   "source": [
    "### Task 2.1. Forward feature selection"
   ]
  },
  {
   "cell_type": "code",
   "execution_count": 11,
   "metadata": {},
   "outputs": [],
   "source": [
    "from sklearn.linear_model import LinearRegression\n",
    "from sklearn.model_selection import train_test_split\n",
    "from sklearn.metrics import mean_squared_error"
   ]
  },
  {
   "cell_type": "code",
   "execution_count": 12,
   "metadata": {},
   "outputs": [],
   "source": [
    "def train_model(X, y):\n",
    "    model = LinearRegression()\n",
    "    model.fit(X, y)\n",
    "    return model"
   ]
  },
  {
   "cell_type": "code",
   "execution_count": 13,
   "metadata": {},
   "outputs": [],
   "source": [
    "def evaluate_model_mse(model, X_test, y_true):\n",
    "    y_pred = model.predict(X_test)\n",
    "    return mean_squared_error(y_true, y_pred)"
   ]
  },
  {
   "cell_type": "code",
   "execution_count": 14,
   "metadata": {},
   "outputs": [],
   "source": [
    "def forward_selection(X, y, stop_amount=None):\n",
    "    feature_amount = X.shape[1]\n",
    "    all_features = set(range(feature_amount))\n",
    "    stop_amount = stop_amount or feature_amount\n",
    "\n",
    "    best_features = []\n",
    "    best_mse = []\n",
    "    while len(best_features) < stop_amount:\n",
    "        remaining_features = list(all_features - set(best_features))\n",
    "        feat_to_mse = {}\n",
    "        for feature in remaining_features:\n",
    "            curr_features = best_features + [feature]\n",
    "            X_step = X[:, curr_features]\n",
    "\n",
    "            X_train, X_test, y_train, y_test = train_test_split(X_step, y, test_size=0.3, random_state=42)\n",
    "\n",
    "            model = train_model(X_train, y_train)\n",
    "            mse_step = evaluate_model_mse(model, X_test, y_test)\n",
    "            feat_to_mse[feature] = mse_step\n",
    "\n",
    "        best_feature = min(feat_to_mse, key=feat_to_mse.get)\n",
    "        best_features.append(best_feature)\n",
    "        best_mse.append(feat_to_mse[best_feature])\n",
    "    \n",
    "    return best_features, best_mse"
   ]
  },
  {
   "cell_type": "code",
   "execution_count": 15,
   "metadata": {},
   "outputs": [
    {
     "name": "stdout",
     "output_type": "stream",
     "text": [
      "[12, 5, 10, 7, 4]\n",
      "Forward selection 5 best features: ['LSTAT' 'RM' 'PTRATIO' 'DIS' 'NOX'], MSE=22.7068\n"
     ]
    }
   ],
   "source": [
    "forward_features, forward_mse = forward_selection(X_scaled, y, 5)\n",
    "print(forward_features)\n",
    "\n",
    "forward_features = columns[forward_features]\n",
    "print(f'Forward selection 5 best features: {forward_features}, MSE={forward_mse[-1]:.4f}')"
   ]
  },
  {
   "cell_type": "markdown",
   "metadata": {},
   "source": [
    "### Task 2.2. Backward feature selection"
   ]
  },
  {
   "cell_type": "code",
   "execution_count": 16,
   "metadata": {},
   "outputs": [],
   "source": [
    "def backward_selection(X, y, stop_amount=None):\n",
    "    feature_amount = X.shape[1]\n",
    "    all_features = set(range(feature_amount))\n",
    "    stop_amount = stop_amount or feature_amount\n",
    "\n",
    "    best_features = list(all_features)\n",
    "    best_mse = []\n",
    "    while len(best_features) > stop_amount:\n",
    "        feat_to_mse = {}\n",
    "        for feature in best_features:\n",
    "            curr_features = list(best_features)\n",
    "            curr_features.remove(feature)\n",
    "            X_step = X[:, curr_features]\n",
    "\n",
    "            X_train, X_test, y_train, y_test = train_test_split(X_step, y, test_size=0.3, random_state=42)\n",
    "\n",
    "            model = train_model(X_train, y_train)\n",
    "            mse_step = evaluate_model_mse(model, X_test, y_test)\n",
    "            feat_to_mse[feature] = mse_step\n",
    "\n",
    "        worst_feature = min(feat_to_mse, key=feat_to_mse.get)\n",
    "        best_features.remove(worst_feature)\n",
    "        best_mse.append(feat_to_mse[worst_feature])\n",
    "\n",
    "    return best_features, best_mse"
   ]
  },
  {
   "cell_type": "code",
   "execution_count": 17,
   "metadata": {},
   "outputs": [
    {
     "name": "stdout",
     "output_type": "stream",
     "text": [
      "[4, 5, 7, 10, 12]\n",
      "Backward selection 5 best features: ['NOX' 'RM' 'DIS' 'PTRATIO' 'LSTAT'], MSE=22.7068\n"
     ]
    }
   ],
   "source": [
    "backward_features, backward_mse = backward_selection(X_scaled, y, 5)\n",
    "print(backward_features)\n",
    "\n",
    "backward_features = columns[backward_features]\n",
    "print(f'Backward selection 5 best features: {backward_features}, MSE={backward_mse[-1]:.4f}')"
   ]
  },
  {
   "cell_type": "markdown",
   "metadata": {},
   "source": [
    "### Task 3. L1 - regularization "
   ]
  },
  {
   "cell_type": "code",
   "execution_count": 18,
   "metadata": {},
   "outputs": [],
   "source": [
    "from sklearn.linear_model import Lasso, LassoCV"
   ]
  },
  {
   "cell_type": "code",
   "execution_count": 19,
   "metadata": {},
   "outputs": [],
   "source": [
    "def plot_coeffs(coeffs):\n",
    "    plt.figure(figsize=(12, 8))\n",
    "    \n",
    "    ax = plt.gca()\n",
    "    ax.plot(alphas*2, coeffs)\n",
    "    ax.set_xscale('log')\n",
    "    \n",
    "    plt.axis('tight')\n",
    "    plt.xlabel('alpha')\n",
    "    plt.ylabel('weights')\n",
    "    plt.show()"
   ]
  },
  {
   "cell_type": "code",
   "execution_count": 20,
   "metadata": {},
   "outputs": [],
   "source": [
    "X_train, X_test, y_train, y_test = train_test_split(X, y, test_size = 0.3, random_state = 42)\n",
    "alphas = 10**np.linspace(2, -2, 100)*0.5\n",
    "precision = 5 * 10 **(-6)"
   ]
  },
  {
   "cell_type": "code",
   "execution_count": 21,
   "metadata": {},
   "outputs": [
    {
     "name": "stdout",
     "output_type": "stream",
     "text": [
      "0.05616620164890133\n"
     ]
    }
   ],
   "source": [
    "lasso = Lasso(max_iter=10000, normalize=True)\n",
    "coeffs = []\n",
    "flag = True\n",
    "\n",
    "for a in alphas[::-1]:\n",
    "    lasso.set_params(alpha=a)\n",
    "    lasso.fit(X_train, y_train)\n",
    "    coeffs.append(lasso.coef_)\n",
    "    \n",
    "    if flag and sum(np.fabs(lasso.coef_) > precision) == 5:\n",
    "        alpha = a\n",
    "        flag = False\n",
    "    \n",
    "print(alpha)    "
   ]
  },
  {
   "cell_type": "code",
   "execution_count": 22,
   "metadata": {
    "scrolled": false
   },
   "outputs": [
    {
     "data": {
      "image/png": "[encoded data removed]",
      "text/plain": [
       "<Figure size 864x576 with 1 Axes>"
      ]
     },
     "metadata": {
      "needs_background": "light"
     },
     "output_type": "display_data"
    }
   ],
   "source": [
    "plot_coeffs(coeffs[::-1])"
   ]
  },
  {
   "cell_type": "code",
   "execution_count": 23,
   "metadata": {},
   "outputs": [
    {
     "name": "stdout",
     "output_type": "stream",
     "text": [
      "The best penalty is 0.0562\n",
      "The MSE is 26.7230\n"
     ]
    }
   ],
   "source": [
    "lasso.set_params(alpha=alpha)\n",
    "lasso.fit(X_train, y_train)\n",
    "y_pred = lasso.predict(X_test)\n",
    "\n",
    "mse_lasso = mean_squared_error(y_test, y_pred)\n",
    "\n",
    "print(f'The best penalty is {alpha:.4f}')\n",
    "print(f'The MSE is {mse_lasso:.4f}')\n",
    "\n",
    "coeffs = pd.DataFrame(list(zip(columns, lasso.coef_)), columns=['feature', 'coefficient'])"
   ]
  },
  {
   "cell_type": "code",
   "execution_count": 24,
   "metadata": {},
   "outputs": [
    {
     "data": {
      "text/html": [
       "<div>\n",
       "<style scoped>\n",
       "    .dataframe tbody tr th:only-of-type {\n",
       "        vertical-align: middle;\n",
       "    }\n",
       "\n",
       "    .dataframe tbody tr th {\n",
       "        vertical-align: top;\n",
       "    }\n",
       "\n",
       "    .dataframe thead th {\n",
       "        text-align: right;\n",
       "    }\n",
       "</style>\n",
       "<table border=\"1\" class=\"dataframe\">\n",
       "  <thead>\n",
       "    <tr style=\"text-align: right;\">\n",
       "      <th></th>\n",
       "      <th>feature</th>\n",
       "      <th>coefficient</th>\n",
       "    </tr>\n",
       "  </thead>\n",
       "  <tbody>\n",
       "    <tr>\n",
       "      <th>0</th>\n",
       "      <td>CRIM</td>\n",
       "      <td>-0.000000</td>\n",
       "    </tr>\n",
       "    <tr>\n",
       "      <th>1</th>\n",
       "      <td>ZN</td>\n",
       "      <td>0.000000</td>\n",
       "    </tr>\n",
       "    <tr>\n",
       "      <th>2</th>\n",
       "      <td>INDUS</td>\n",
       "      <td>-0.000000</td>\n",
       "    </tr>\n",
       "    <tr>\n",
       "      <th>4</th>\n",
       "      <td>NOX</td>\n",
       "      <td>-0.000000</td>\n",
       "    </tr>\n",
       "    <tr>\n",
       "      <th>6</th>\n",
       "      <td>AGE</td>\n",
       "      <td>-0.000000</td>\n",
       "    </tr>\n",
       "    <tr>\n",
       "      <th>7</th>\n",
       "      <td>DIS</td>\n",
       "      <td>-0.000000</td>\n",
       "    </tr>\n",
       "    <tr>\n",
       "      <th>8</th>\n",
       "      <td>RAD</td>\n",
       "      <td>-0.000000</td>\n",
       "    </tr>\n",
       "    <tr>\n",
       "      <th>9</th>\n",
       "      <td>TAX</td>\n",
       "      <td>-0.000000</td>\n",
       "    </tr>\n",
       "    <tr>\n",
       "      <th>11</th>\n",
       "      <td>B</td>\n",
       "      <td>0.002600</td>\n",
       "    </tr>\n",
       "    <tr>\n",
       "      <th>12</th>\n",
       "      <td>LSTAT</td>\n",
       "      <td>-0.527264</td>\n",
       "    </tr>\n",
       "    <tr>\n",
       "      <th>10</th>\n",
       "      <td>PTRATIO</td>\n",
       "      <td>-0.539106</td>\n",
       "    </tr>\n",
       "    <tr>\n",
       "      <th>3</th>\n",
       "      <td>CHAS</td>\n",
       "      <td>0.685902</td>\n",
       "    </tr>\n",
       "    <tr>\n",
       "      <th>5</th>\n",
       "      <td>RM</td>\n",
       "      <td>3.763227</td>\n",
       "    </tr>\n",
       "  </tbody>\n",
       "</table>\n",
       "</div>"
      ],
      "text/plain": [
       "    feature  coefficient\n",
       "0      CRIM    -0.000000\n",
       "1        ZN     0.000000\n",
       "2     INDUS    -0.000000\n",
       "4       NOX    -0.000000\n",
       "6       AGE    -0.000000\n",
       "7       DIS    -0.000000\n",
       "8       RAD    -0.000000\n",
       "9       TAX    -0.000000\n",
       "11        B     0.002600\n",
       "12    LSTAT    -0.527264\n",
       "10  PTRATIO    -0.539106\n",
       "3      CHAS     0.685902\n",
       "5        RM     3.763227"
      ]
     },
     "execution_count": 24,
     "metadata": {},
     "output_type": "execute_result"
    }
   ],
   "source": [
    "lasso_coeffs = coeffs.reindex(coeffs.coefficient.abs().sort_values().index)\n",
    "lasso_coeffs"
   ]
  },
  {
   "cell_type": "code",
   "execution_count": 25,
   "metadata": {},
   "outputs": [],
   "source": [
    "top_5_lasso = columns[lasso_coeffs.tail().index]"
   ]
  },
  {
   "cell_type": "code",
   "execution_count": 26,
   "metadata": {},
   "outputs": [
    {
     "name": "stdout",
     "output_type": "stream",
     "text": [
      "Lasso 5 best features: ['B' 'LSTAT' 'PTRATIO' 'CHAS' 'RM'], MSE=26.7230\n"
     ]
    }
   ],
   "source": [
    "print(f'Lasso 5 best features: {top_5_lasso}, MSE={mse_lasso:.4f}')"
   ]
  },
  {
   "cell_type": "code",
   "execution_count": 27,
   "metadata": {},
   "outputs": [
    {
     "name": "stdout",
     "output_type": "stream",
     "text": [
      "The best penalty is 0.0050\n",
      "The MSE is 22.6739\n"
     ]
    }
   ],
   "source": [
    "lassocv = LassoCV(alphas=alphas, cv=10, max_iter=10000, random_state = 42)\n",
    "lassocv.fit(X_train, y_train)\n",
    "\n",
    "lasso.set_params(alpha=lassocv.alpha_)\n",
    "lasso.fit(X_train, y_train)\n",
    "y_pred = lasso.predict(X_test)\n",
    "\n",
    "mse_lassocv = mean_squared_error(y_test, y_pred)\n",
    "\n",
    "print(f'The best penalty is {lassocv.alpha_:.4f}')\n",
    "print(f'The MSE is {mse_lassocv:.4f}')\n",
    "\n",
    "coeffs = pd.DataFrame(list(zip(columns, lasso.coef_)), columns=['feature', 'coefficient'])"
   ]
  },
  {
   "cell_type": "code",
   "execution_count": 28,
   "metadata": {},
   "outputs": [
    {
     "data": {
      "text/html": [
       "<div>\n",
       "<style scoped>\n",
       "    .dataframe tbody tr th:only-of-type {\n",
       "        vertical-align: middle;\n",
       "    }\n",
       "\n",
       "    .dataframe tbody tr th {\n",
       "        vertical-align: top;\n",
       "    }\n",
       "\n",
       "    .dataframe thead th {\n",
       "        text-align: right;\n",
       "    }\n",
       "</style>\n",
       "<table border=\"1\" class=\"dataframe\">\n",
       "  <thead>\n",
       "    <tr style=\"text-align: right;\">\n",
       "      <th></th>\n",
       "      <th>feature</th>\n",
       "      <th>coefficient</th>\n",
       "    </tr>\n",
       "  </thead>\n",
       "  <tbody>\n",
       "    <tr>\n",
       "      <th>2</th>\n",
       "      <td>INDUS</td>\n",
       "      <td>-0.000000</td>\n",
       "    </tr>\n",
       "    <tr>\n",
       "      <th>9</th>\n",
       "      <td>TAX</td>\n",
       "      <td>-0.000774</td>\n",
       "    </tr>\n",
       "    <tr>\n",
       "      <th>6</th>\n",
       "      <td>AGE</td>\n",
       "      <td>-0.004892</td>\n",
       "    </tr>\n",
       "    <tr>\n",
       "      <th>11</th>\n",
       "      <td>B</td>\n",
       "      <td>0.010599</td>\n",
       "    </tr>\n",
       "    <tr>\n",
       "      <th>1</th>\n",
       "      <td>ZN</td>\n",
       "      <td>0.018027</td>\n",
       "    </tr>\n",
       "    <tr>\n",
       "      <th>8</th>\n",
       "      <td>RAD</td>\n",
       "      <td>0.070071</td>\n",
       "    </tr>\n",
       "    <tr>\n",
       "      <th>0</th>\n",
       "      <td>CRIM</td>\n",
       "      <td>-0.098962</td>\n",
       "    </tr>\n",
       "    <tr>\n",
       "      <th>12</th>\n",
       "      <td>LSTAT</td>\n",
       "      <td>-0.550956</td>\n",
       "    </tr>\n",
       "    <tr>\n",
       "      <th>10</th>\n",
       "      <td>PTRATIO</td>\n",
       "      <td>-0.844279</td>\n",
       "    </tr>\n",
       "    <tr>\n",
       "      <th>7</th>\n",
       "      <td>DIS</td>\n",
       "      <td>-1.036162</td>\n",
       "    </tr>\n",
       "    <tr>\n",
       "      <th>3</th>\n",
       "      <td>CHAS</td>\n",
       "      <td>3.162754</td>\n",
       "    </tr>\n",
       "    <tr>\n",
       "      <th>5</th>\n",
       "      <td>RM</td>\n",
       "      <td>4.169956</td>\n",
       "    </tr>\n",
       "    <tr>\n",
       "      <th>4</th>\n",
       "      <td>NOX</td>\n",
       "      <td>-11.246642</td>\n",
       "    </tr>\n",
       "  </tbody>\n",
       "</table>\n",
       "</div>"
      ],
      "text/plain": [
       "    feature  coefficient\n",
       "2     INDUS    -0.000000\n",
       "9       TAX    -0.000774\n",
       "6       AGE    -0.004892\n",
       "11        B     0.010599\n",
       "1        ZN     0.018027\n",
       "8       RAD     0.070071\n",
       "0      CRIM    -0.098962\n",
       "12    LSTAT    -0.550956\n",
       "10  PTRATIO    -0.844279\n",
       "7       DIS    -1.036162\n",
       "3      CHAS     3.162754\n",
       "5        RM     4.169956\n",
       "4       NOX   -11.246642"
      ]
     },
     "execution_count": 28,
     "metadata": {},
     "output_type": "execute_result"
    }
   ],
   "source": [
    "lassocv_coeffs = coeffs.reindex(coeffs.coefficient.abs().sort_values().index)\n",
    "lassocv_coeffs"
   ]
  },
  {
   "cell_type": "code",
   "execution_count": 29,
   "metadata": {},
   "outputs": [],
   "source": [
    "top_5_lassocv = columns[lassocv_coeffs.tail().index]"
   ]
  },
  {
   "cell_type": "code",
   "execution_count": 30,
   "metadata": {},
   "outputs": [
    {
     "name": "stdout",
     "output_type": "stream",
     "text": [
      "LassoCV 5 best features: ['PTRATIO' 'DIS' 'CHAS' 'RM' 'NOX'], MSE=22.6739\n"
     ]
    }
   ],
   "source": [
    "print(f'LassoCV 5 best features: {top_5_lassocv}, MSE={mse_lassocv:.4f}')"
   ]
  },
  {
   "cell_type": "markdown",
   "metadata": {},
   "source": [
    "### Find MSE for filter columns"
   ]
  },
  {
   "cell_type": "code",
   "execution_count": 31,
   "metadata": {},
   "outputs": [],
   "source": [
    "model = train_model(X_train, y_train)\n",
    "mse_filter = evaluate_model_mse(model, X_test, y_test)"
   ]
  },
  {
   "cell_type": "markdown",
   "metadata": {},
   "source": [
    "### Resume"
   ]
  },
  {
   "cell_type": "code",
   "execution_count": 32,
   "metadata": {},
   "outputs": [
    {
     "data": {
      "text/html": [
       "<div>\n",
       "<style scoped>\n",
       "    .dataframe tbody tr th:only-of-type {\n",
       "        vertical-align: middle;\n",
       "    }\n",
       "\n",
       "    .dataframe tbody tr th {\n",
       "        vertical-align: top;\n",
       "    }\n",
       "\n",
       "    .dataframe thead th {\n",
       "        text-align: right;\n",
       "    }\n",
       "</style>\n",
       "<table border=\"1\" class=\"dataframe\">\n",
       "  <thead>\n",
       "    <tr style=\"text-align: right;\">\n",
       "      <th></th>\n",
       "      <th>Filter</th>\n",
       "      <th>Forward</th>\n",
       "      <th>Backward</th>\n",
       "      <th>Lasso</th>\n",
       "      <th>LassoCV</th>\n",
       "    </tr>\n",
       "  </thead>\n",
       "  <tbody>\n",
       "    <tr>\n",
       "      <th>Top_Features</th>\n",
       "      <td>[LSTAT, RM, PTRATIO, INDUS, TAX]</td>\n",
       "      <td>[LSTAT, RM, PTRATIO, DIS, NOX]</td>\n",
       "      <td>[NOX, RM, DIS, PTRATIO, LSTAT]</td>\n",
       "      <td>[B, LSTAT, PTRATIO, CHAS, RM]</td>\n",
       "      <td>[PTRATIO, DIS, CHAS, RM, NOX]</td>\n",
       "    </tr>\n",
       "    <tr>\n",
       "      <th>Amount of Features</th>\n",
       "      <td>5</td>\n",
       "      <td>5</td>\n",
       "      <td>5</td>\n",
       "      <td>5</td>\n",
       "      <td>12</td>\n",
       "    </tr>\n",
       "    <tr>\n",
       "      <th>MSE</th>\n",
       "      <td>21.5174</td>\n",
       "      <td>22.7068</td>\n",
       "      <td>22.7068</td>\n",
       "      <td>26.723</td>\n",
       "      <td>22.6739</td>\n",
       "    </tr>\n",
       "  </tbody>\n",
       "</table>\n",
       "</div>"
      ],
      "text/plain": [
       "                                              Filter  \\\n",
       "Top_Features        [LSTAT, RM, PTRATIO, INDUS, TAX]   \n",
       "Amount of Features                                 5   \n",
       "MSE                                          21.5174   \n",
       "\n",
       "                                           Forward  \\\n",
       "Top_Features        [LSTAT, RM, PTRATIO, DIS, NOX]   \n",
       "Amount of Features                               5   \n",
       "MSE                                        22.7068   \n",
       "\n",
       "                                          Backward  \\\n",
       "Top_Features        [NOX, RM, DIS, PTRATIO, LSTAT]   \n",
       "Amount of Features                               5   \n",
       "MSE                                        22.7068   \n",
       "\n",
       "                                            Lasso  \\\n",
       "Top_Features        [B, LSTAT, PTRATIO, CHAS, RM]   \n",
       "Amount of Features                              5   \n",
       "MSE                                        26.723   \n",
       "\n",
       "                                          LassoCV  \n",
       "Top_Features        [PTRATIO, DIS, CHAS, RM, NOX]  \n",
       "Amount of Features                             12  \n",
       "MSE                                       22.6739  "
      ]
     },
     "execution_count": 32,
     "metadata": {},
     "output_type": "execute_result"
    }
   ],
   "source": [
    "data = {\n",
    "    'Top_Features': [top_5_filter, forward_features, backward_features, top_5_lasso, top_5_lassocv],\n",
    "    'Amount of Features': [5, 5, 5, 5, 12],\n",
    "    'MSE': [mse_filter, forward_mse[-1], backward_mse[-1], mse_lasso, mse_lassocv]\n",
    "}\n",
    "pd.DataFrame.from_dict(data, orient='index', columns=['Filter', 'Forward', 'Backward', 'Lasso', 'LassoCV'])"
   ]
  }
 ],
 "metadata": {
  "kernelspec": {
   "display_name": "Python 3",
   "language": "python",
   "name": "python3"
  },
  "language_info": {
   "codemirror_mode": {
    "name": "ipython",
    "version": 3
   },
   "file_extension": ".py",
   "mimetype": "text/x-python",
   "name": "python",
   "nbconvert_exporter": "python",
   "pygments_lexer": "ipython3",
   "version": "3.7.6"
  }
 },
 "nbformat": 4,
 "nbformat_minor": 2
}
