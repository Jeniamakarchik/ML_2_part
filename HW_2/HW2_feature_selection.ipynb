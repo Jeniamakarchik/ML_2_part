{
 "cells": [
  {
   "cell_type": "markdown",
   "metadata": {},
   "source": [
    "## HW2. Feature selection"
   ]
  },
  {
   "cell_type": "markdown",
   "metadata": {},
   "source": [
    "### Importing"
   ]
  },
  {
   "cell_type": "code",
   "execution_count": 5,
   "metadata": {},
   "outputs": [],
   "source": [
    "from sklearn.datasets import load_boston\n",
    "import numpy as np\n",
    "import matplotlib.pyplot as plt"
   ]
  },
  {
   "cell_type": "markdown",
   "metadata": {},
   "source": [
    "### Download dataset"
   ]
  },
  {
   "cell_type": "code",
   "execution_count": 83,
   "metadata": {
    "scrolled": true
   },
   "outputs": [
    {
     "name": "stdout",
     "output_type": "stream",
     "text": [
      "(506, 13) <class 'numpy.ndarray'>\n",
      "(506,) <class 'numpy.ndarray'>\n"
     ]
    }
   ],
   "source": [
    "data = load_boston()\n",
    "X = data['data']\n",
    "y = data['target']\n",
    "columns = data.feature_names\n",
    "\n",
    "print(X.shape, type(X))\n",
    "print(y.shape, type(y))"
   ]
  },
  {
   "cell_type": "code",
   "execution_count": 94,
   "metadata": {},
   "outputs": [
    {
     "name": "stdout",
     "output_type": "stream",
     "text": [
      "['CRIM' 'ZN' 'INDUS' 'CHAS' 'NOX' 'RM' 'AGE' 'DIS' 'RAD' 'TAX' 'PTRATIO'\n",
      " 'B' 'LSTAT']\n"
     ]
    }
   ],
   "source": [
    "print(columns)"
   ]
  },
  {
   "cell_type": "markdown",
   "metadata": {},
   "source": [
    "### Task 1. Filter method for feature selection"
   ]
  },
  {
   "cell_type": "code",
   "execution_count": 7,
   "metadata": {},
   "outputs": [],
   "source": [
    "def pearson_corr(v):\n",
    "    return np.dot(v - v.mean(), y - y.mean())/(np.linalg.norm(v - v.mean())*np.linalg.norm(y - y.mean()))\n"
   ]
  },
  {
   "cell_type": "code",
   "execution_count": 118,
   "metadata": {},
   "outputs": [],
   "source": [
    "def plot_importances(imp_arr, columns=None, title='Importances'):\n",
    "    \n",
    "    n_bars = len(imp_arr)\n",
    "        \n",
    "    plt.figure(figsize=(12, 8))\n",
    "    plt.title(title)\n",
    "    plt.barh(range(n_bars), imp_arr[:, 1], color='r', align=\"center\")\n",
    "    plt.ylim(-1, n_bars)\n",
    "    if columns is not None:\n",
    "        plt.yticks(range(n_bars), [columns[int(i)] for i in imp_arr[:, 0]])\n",
    "    else:\n",
    "        plt.yticks(range(n_bars), [f'Feature {int(i)}' for i in imp_arr[:, 0]])\n",
    "    plt.show()"
   ]
  },
  {
   "cell_type": "code",
   "execution_count": 119,
   "metadata": {},
   "outputs": [
    {
     "name": "stdout",
     "output_type": "stream",
     "text": [
      "[[12.         -0.73766273]\n",
      " [ 5.          0.69535995]\n",
      " [10.         -0.50778669]\n",
      " [ 2.         -0.48372516]\n",
      " [ 9.         -0.46853593]\n",
      " [ 4.         -0.42732077]\n",
      " [ 0.         -0.38830461]\n",
      " [ 8.         -0.38162623]\n",
      " [ 6.         -0.37695457]\n",
      " [ 1.          0.36044534]\n",
      " [11.          0.33346082]\n",
      " [ 7.          0.24992873]\n",
      " [ 3.          0.17526018]]\n"
     ]
    }
   ],
   "source": [
    "importances = np.apply_along_axis(pearson_corr, 0, X)\n",
    "importances = np.array(sorted(enumerate(importances), key = lambda x: np.fabs(x[1]), reverse=True))\n",
    "print(importances)"
   ]
  },
  {
   "cell_type": "code",
   "execution_count": 120,
   "metadata": {},
   "outputs": [
    {
     "data": {
      "image/png": "[encoded data removed]",
      "text/plain": [
       "<Figure size 864x576 with 1 Axes>"
      ]
     },
     "metadata": {
      "needs_background": "light"
     },
     "output_type": "display_data"
    }
   ],
   "source": [
    "plot_importances(importances, columns, title='Pearson correlation')"
   ]
  },
  {
   "cell_type": "code",
   "execution_count": 125,
   "metadata": {},
   "outputs": [
    {
     "name": "stdout",
     "output_type": "stream",
     "text": [
      "The most important features by pearson correlation:\n",
      "['LSTAT' 'RM' 'PTRATIO' 'INDUS' 'TAX']\n"
     ]
    }
   ],
   "source": [
    "print('The most important features by pearson correlation:')\n",
    "print(columns[[int(i) for i in importances[:5, 0]]])"
   ]
  },
  {
   "cell_type": "markdown",
   "metadata": {},
   "source": [
    "### Task 2.1. Forward feature selection"
   ]
  },
  {
   "cell_type": "code",
   "execution_count": null,
   "metadata": {},
   "outputs": [],
   "source": [
    "from sklearn.linear_model import LinearRegression\n",
    "from sklearn.model_selection import train_test_split"
   ]
  },
  {
   "cell_type": "code",
   "execution_count": null,
   "metadata": {},
   "outputs": [],
   "source": [
    "def forward_selection(X, y, columns=None, significance_level=0.05):\n",
    "    feature_amount = X.shape[1]\n",
    "    \n",
    "    best_features = []\n",
    "    while (feature_amount > 0):\n",
    "        \n",
    "        remaining_features = list(set(initial_features) - set(best_features))\n",
    "        new_pval = pd.Series(index=remaining_features)\n",
    "        for new_column in remaining_features:\n",
    "            model = sm.OLS(target, sm.add_constant(data[best_features+[new_column]])).fit()\n",
    "            new_pval[new_column] = model.pvalues[new_column]\n",
    "        min_p_value = new_pval.min()\n",
    "        if(min_p_value<significance_level):\n",
    "            best_features.append(new_pval.idxmin())\n",
    "        else:\n",
    "            break\n",
    "    return best_features"
   ]
  },
  {
   "cell_type": "markdown",
   "metadata": {},
   "source": [
    "### Task 2.2. Backward feature selection"
   ]
  },
  {
   "cell_type": "code",
   "execution_count": 82,
   "metadata": {},
   "outputs": [],
   "source": [
    "def backward_selection():\n",
    "    pass"
   ]
  },
  {
   "cell_type": "code",
   "execution_count": null,
   "metadata": {},
   "outputs": [],
   "source": [
    "def backward_selection():\n",
    "    pass"
   ]
  },
  {
   "cell_type": "markdown",
   "metadata": {},
   "source": [
    "### Task 3. L1 - regularization "
   ]
  },
  {
   "cell_type": "code",
   "execution_count": null,
   "metadata": {},
   "outputs": [],
   "source": [
    "from sklearn.linear_model import LassoCV\n",
    "\n",
    "clf = LassoCV()"
   ]
  }
 ],
 "metadata": {
  "kernelspec": {
   "display_name": "Python 3",
   "language": "python",
   "name": "python3"
  },
  "language_info": {
   "codemirror_mode": {
    "name": "ipython",
    "version": 3
   },
   "file_extension": ".py",
   "mimetype": "text/x-python",
   "name": "python",
   "nbconvert_exporter": "python",
   "pygments_lexer": "ipython3",
   "version": "3.7.6"
  }
 },
 "nbformat": 4,
 "nbformat_minor": 2
}
